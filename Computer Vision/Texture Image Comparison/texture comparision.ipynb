{
 "cells": [
  {
   "cell_type": "code",
   "execution_count": 1608,
   "id": "1577ebf6",
   "metadata": {},
   "outputs": [],
   "source": [
    "from skimage import io\n",
    "import os\n",
    "import cv2\n",
    "import pandas as pd\n",
    "import matplotlib.pyplot as plt\n",
    "import numpy as np\n",
    "from skimage.color import rgb2gray\n",
    "from skimage.transform import resize\n",
    "from sklearn.model_selection import train_test_split\n",
    "from sklearn.linear_model import LogisticRegression\n",
    "from sklearn.metrics import classification_report , confusion_matrix , plot_roc_curve , plot_confusion_matrix\n",
    "from sklearn.metrics import accuracy_score , precision_recall_fscore_support\n",
    "from sklearn.model_selection import StratifiedKFold\n",
    "from statistics import mode\n",
    "import tensorflow as tf\n",
    "from sklearn.neural_network import MLPClassifier\n",
    "from skimage import filters\n",
    "import time\n"
   ]
  },
  {
   "cell_type": "markdown",
   "metadata": {},
   "source": [
    "# Image Processing"
   ]
  },
  {
   "cell_type": "markdown",
   "metadata": {},
   "source": [
    "## Load Data"
   ]
  },
  {
   "cell_type": "code",
   "execution_count": 1609,
   "id": "f6f00be5",
   "metadata": {},
   "outputs": [],
   "source": [
    "def load_images(data_pathes):\n",
    "    #store train and test datasets in one array\n",
    "    all_data = []\n",
    "    for i in range(len(data_pathes)):\n",
    "        df = pd.DataFrame()\n",
    "        dirs = os.listdir(data_pathes[i])\n",
    "        # looping over all selected folders using dirs array\n",
    "        for folder_name in dirs:\n",
    "            #store each image in its specified folder\n",
    "            for file in os.listdir(data_pathes[i]+'/'+folder_name):\n",
    "                image = io.imread(data_pathes[i]+'/'+folder_name+'/'+file)\n",
    "                # resize images from 576 to 32 for width and height\n",
    "                image = cv2.resize(image, (32, 32))\n",
    "                # flatten the images to easily deal with it\n",
    "                image = np.reshape(image,-1)\n",
    "                # store image and its class in a dataframe\n",
    "                dictt = {'image':image,'class':folder_name}\n",
    "                df = df.append(dictt,ignore_index=True)\n",
    "        all_data.append(df)\n",
    "    return all_data[0],all_data[1]"
   ]
  },
  {
   "cell_type": "code",
   "execution_count": 1610,
   "id": "4b08bea4",
   "metadata": {},
   "outputs": [],
   "source": [
    "train_dir = 'textures/training'\n",
    "test_dir = 'textures/testing'\n",
    "data_pathes = [train_dir,test_dir]\n",
    "\n",
    "train,test = load_images(data_pathes)"
   ]
  },
  {
   "cell_type": "markdown",
   "metadata": {},
   "source": [
    "## Split train data to train and validate"
   ]
  },
  {
   "cell_type": "code",
   "execution_count": 1611,
   "metadata": {},
   "outputs": [],
   "source": [
    "X_train , X_validate , y_train, y_validate = train_test_split(train['image'],train['class'] , test_size=0.33, random_state=20 , stratify=train['class'])"
   ]
  },
  {
   "cell_type": "markdown",
   "metadata": {},
   "source": [
    "the validate dataset was generated from training dataset to be used in Image Matching function later to validate it"
   ]
  },
  {
   "cell_type": "code",
   "execution_count": 1612,
   "metadata": {},
   "outputs": [],
   "source": [
    "train = pd.DataFrame({'image':X_train,'class':y_train})\n",
    "validate = pd.DataFrame({'image':X_validate,'class':y_validate})"
   ]
  },
  {
   "cell_type": "code",
   "execution_count": 1613,
   "metadata": {},
   "outputs": [],
   "source": [
    "train = train.sort_values('class').reset_index(drop=True)\n",
    "validate = validate.sort_values('class').reset_index(drop=True)"
   ]
  },
  {
   "cell_type": "markdown",
   "metadata": {},
   "source": [
    "# Image Matching"
   ]
  },
  {
   "cell_type": "markdown",
   "metadata": {},
   "source": [
    "## Generate pairs of training , validation and testing data"
   ]
  },
  {
   "cell_type": "code",
   "execution_count": 1614,
   "metadata": {},
   "outputs": [],
   "source": [
    "def generate_images(data):\n",
    "    df =pd.DataFrame()\n",
    "    for i in range(len(data)):\n",
    "        for j in range(i+1,len(data)):\n",
    "            if(data['class'][i] == data['class'][j]):\n",
    "                df = df.append({'img1':data['image'][i],'class1':data['class'][i] ,'img2':data['image'][j],'class2':data['class'][j],'match':1},ignore_index=True)\n",
    "            else:\n",
    "                df = df.append({'img1':data['image'][i],'class1':data['class'][i] ,'img2':data['image'][j],'class2':data['class'][j],'match':0},ignore_index=True)\n",
    "\n",
    "    return df"
   ]
  },
  {
   "cell_type": "markdown",
   "metadata": {},
   "source": [
    "generate_images function has data as input and it generate simmilar and different pairs from it and returns dataframe has 5 columns \n",
    "1. image 1 (numpy array)\n",
    "2. class of image 1 (category)\n",
    "3. image 2 (numpy array)\n",
    "4. class of image 2 (category)\n",
    "5. match (1 == simmilar , 0 == different)"
   ]
  },
  {
   "cell_type": "code",
   "execution_count": 1615,
   "metadata": {},
   "outputs": [],
   "source": [
    "train_dataset = generate_images(train)\n",
    "validate_dataset = generate_images(validate)\n",
    "test_dataset = generate_images(test)"
   ]
  },
  {
   "cell_type": "markdown",
   "metadata": {},
   "source": [
    "## Image Matching"
   ]
  },
  {
   "cell_type": "code",
   "execution_count": 1616,
   "metadata": {},
   "outputs": [],
   "source": [
    "def cross_correlation(imageA,imageB):\n",
    "    return np.sum(np.multiply(imageA,imageB))"
   ]
  },
  {
   "cell_type": "code",
   "execution_count": 1617,
   "metadata": {},
   "outputs": [],
   "source": [
    "def convolution(imageA,imageB):\n",
    "    # reverse image B\n",
    "    reversedB = list(reversed(imageB))\n",
    "    # multiply image A by reversed imageB and sum the resulted array\n",
    "    return np.sum(np.multiply(imageA,reversedB))"
   ]
  },
  {
   "cell_type": "code",
   "execution_count": 1618,
   "metadata": {},
   "outputs": [],
   "source": [
    "def sum_square_difference(imageA,imageB):\n",
    "    return np.sum(np.square(np.subtract(imageA,imageB)))"
   ]
  },
  {
   "cell_type": "markdown",
   "metadata": {},
   "source": [
    "image matching function has 4 inputs:\n",
    "1. image1(numpy array)\n",
    "2. image2(numpy array) \n",
    "3. method(cross correlation == cc| convolution == conv || sum of square difference == ssd) \n",
    "4. normalize (True|False)\n",
    "\n",
    "\n"
   ]
  },
  {
   "cell_type": "code",
   "execution_count": 1619,
   "id": "7f9bbbdb",
   "metadata": {},
   "outputs": [],
   "source": [
    "def imageMatching(imageA,imageB,method='cc',normalize=False):\n",
    "    \n",
    "    if method == 'cc':\n",
    "        if normalize is False:\n",
    "            threshold = cross_correlation(imageA,imageB)\n",
    "            if threshold > 128901.5:\n",
    "                return 1\n",
    "            else:\n",
    "                return 0\n",
    "        else:\n",
    "            imageA = imageA/255.0\n",
    "            imageB = imageB/255.0\n",
    "            threshold = cross_correlation(imageA,imageB)\n",
    "            if threshold > 255:\n",
    "                return 1\n",
    "            else:\n",
    "                return 0\n",
    "\n",
    "\n",
    "    if method == 'conv':\n",
    "        if normalize is False:\n",
    "            threshold = convolution(imageA,imageB)\n",
    "            if threshold < 127465.0:\n",
    "                return 1\n",
    "            else:\n",
    "                return 0\n",
    "        else:\n",
    "            imageA = imageA/255.0\n",
    "            imageB = imageB/255.0\n",
    "            threshold = convolution(imageA,imageB)\n",
    "            if threshold < 254.99870818915804:\n",
    "                return 1\n",
    "            else:\n",
    "                return 0\n",
    "                \n",
    "\n",
    "    if method == 'ssd':\n",
    "        if normalize is False:\n",
    "            threshold = sum_square_difference(imageA,imageB)\n",
    "            if threshold > 107557.5:\n",
    "                return 1\n",
    "            else:\n",
    "                return 0\n",
    "        else:\n",
    "            imageA = imageA/255.0\n",
    "            imageB = imageB/255.0\n",
    "            threshold = sum_square_difference(imageA,imageB)\n",
    "            if threshold > 47.45966935793925:\n",
    "                return 1\n",
    "            else:\n",
    "                return 0\n"
   ]
  },
  {
   "cell_type": "markdown",
   "metadata": {},
   "source": [
    "My approach in finding the threshold was to get the most frequent score in both simmilar and different from histogram by representing both of them, then get the average between them and set it as the threshold\n",
    "\n",
    "Sometimes I found the threshold by guessing from the histogram as well"
   ]
  },
  {
   "cell_type": "markdown",
   "metadata": {},
   "source": [
    "## Find best threshold for cross correlation"
   ]
  },
  {
   "cell_type": "markdown",
   "metadata": {},
   "source": [
    "### Without Normalization"
   ]
  },
  {
   "cell_type": "code",
   "execution_count": 1620,
   "metadata": {},
   "outputs": [],
   "source": [
    "different_images_results = []\n",
    "simmilar_images_results = []\n",
    "for i in range(len(train_dataset['img1'])):\n",
    "    if(train_dataset['match'][i] == 0):\n",
    "        different_images_results.append(\n",
    "            cross_correlation(train_dataset['img1'][i],train_dataset['img2'][i])\n",
    "        )   \n",
    "    else:\n",
    "        simmilar_images_results.append(\n",
    "            cross_correlation(train_dataset['img1'][i],train_dataset['img2'][i])\n",
    "        )"
   ]
  },
  {
   "cell_type": "code",
   "execution_count": 1621,
   "metadata": {},
   "outputs": [
    {
     "name": "stdout",
     "output_type": "stream",
     "text": [
      "Most frequent score in simmilar images  : 128653\n",
      "Most frequent score in different images : 129150\n",
      "Average frequent score in all images : 128901.5\n"
     ]
    },
    {
     "data": {
      "image/png": "[encoded data removed]",
      "text/plain": [
       "<Figure size 432x288 with 1 Axes>"
      ]
     },
     "metadata": {
      "needs_background": "light"
     },
     "output_type": "display_data"
    }
   ],
   "source": [
    "y, x, _ = plt.hist(simmilar_images_results, bins=20,fc=(1, 0, 0, 0.2),label='simmilar')\n",
    "y, x, _ = plt.hist(different_images_results, bins=20,fc=(0, 0, 1, 0.2),label='different')\n",
    "plt.legend()\n",
    "print(\"Most frequent score in simmilar images  : \"+str(mode(simmilar_images_results)))\n",
    "print(\"Most frequent score in different images : \"+str(mode(different_images_results)))\n",
    "print(\"Average frequent score in all images : \"+str(np.average([mode(simmilar_images_results),mode(different_images_results)])))"
   ]
  },
  {
   "cell_type": "code",
   "execution_count": 1622,
   "metadata": {},
   "outputs": [
    {
     "name": "stdout",
     "output_type": "stream",
     "text": [
      "              precision    recall  f1-score   support\n",
      "\n",
      "         0.0       0.83      0.48      0.61      1500\n",
      "         1.0       0.14      0.47      0.22       270\n",
      "\n",
      "    accuracy                           0.48      1770\n",
      "   macro avg       0.49      0.48      0.41      1770\n",
      "weighted avg       0.73      0.48      0.55      1770\n",
      "\n",
      "[[726 774]\n",
      " [144 126]]\n"
     ]
    }
   ],
   "source": [
    "predictions = []\n",
    "for i in range(len(validate_dataset['img1'])):\n",
    "    predictions.append(imageMatching(validate_dataset['img1'][i],validate_dataset['img2'][i],'cc',False))\n",
    "print(classification_report(validate_dataset['match'],predictions))\n",
    "print(confusion_matrix(validate_dataset['match'],predictions))"
   ]
  },
  {
   "cell_type": "markdown",
   "metadata": {},
   "source": [
    "### With Normalization"
   ]
  },
  {
   "cell_type": "code",
   "execution_count": 1623,
   "metadata": {},
   "outputs": [],
   "source": [
    "different_images_results = []\n",
    "simmilar_images_results = []\n",
    "for i in range(len(train_dataset['img1'])):\n",
    "    if(train_dataset['match'][i] == 0):\n",
    "        different_images_results.append(\n",
    "            cross_correlation(train_dataset['img1'][i]/255.0,train_dataset['img2'][i]/255.0)\n",
    "        )   \n",
    "    else:\n",
    "        simmilar_images_results.append(\n",
    "            cross_correlation(train_dataset['img1'][i]/255.0,train_dataset['img2'][i]/255.0)\n",
    "        )\n"
   ]
  },
  {
   "cell_type": "code",
   "execution_count": 1624,
   "metadata": {},
   "outputs": [
    {
     "name": "stdout",
     "output_type": "stream",
     "text": [
      "Most frequent score in simmilar images : 254.99498654363708\n",
      "Most frequent score in different images : 252.7996155324875\n"
     ]
    },
    {
     "data": {
      "image/png": "[encoded data removed]",
      "text/plain": [
       "<Figure size 432x288 with 1 Axes>"
      ]
     },
     "metadata": {
      "needs_background": "light"
     },
     "output_type": "display_data"
    }
   ],
   "source": [
    "y, x, _ = plt.hist(simmilar_images_results, bins=20,fc=(1, 0, 0, 0.2),label='simmilar')\n",
    "y, x, _ = plt.hist(different_images_results, bins=20,fc=(0, 0, 1, 0.2),label='different')\n",
    "plt.legend()\n",
    "print(\"Most frequent score in simmilar images : \"+str(mode(simmilar_images_results)))\n",
    "print(\"Most frequent score in different images : \"+str(mode(different_images_results)))"
   ]
  },
  {
   "cell_type": "code",
   "execution_count": 1625,
   "metadata": {},
   "outputs": [
    {
     "name": "stdout",
     "output_type": "stream",
     "text": [
      "              precision    recall  f1-score   support\n",
      "\n",
      "         0.0       0.84      0.57      0.68      1500\n",
      "         1.0       0.14      0.39      0.20       270\n",
      "\n",
      "    accuracy                           0.54      1770\n",
      "   macro avg       0.49      0.48      0.44      1770\n",
      "weighted avg       0.73      0.54      0.60      1770\n",
      "\n",
      "[[852 648]\n",
      " [166 104]]\n"
     ]
    }
   ],
   "source": [
    "predictions = []\n",
    "for i in range(len(validate_dataset['img1'])):\n",
    "    predictions.append(imageMatching(validate_dataset['img1'][i],validate_dataset['img2'][i],'cc',True))\n",
    "    \n",
    "print(classification_report(validate_dataset['match'],predictions))\n",
    "print(confusion_matrix(validate_dataset['match'],predictions))"
   ]
  },
  {
   "cell_type": "markdown",
   "metadata": {},
   "source": [
    "## Find best threshold for convolution"
   ]
  },
  {
   "cell_type": "markdown",
   "metadata": {},
   "source": [
    "### without normalization"
   ]
  },
  {
   "cell_type": "code",
   "execution_count": 1626,
   "metadata": {},
   "outputs": [],
   "source": [
    "different_images_results = []\n",
    "simmilar_images_results = []\n",
    "for i in range(len(train_dataset['img1'])):\n",
    "    if(train_dataset['match'][i] == 0):\n",
    "        different_images_results.append(\n",
    "            convolution(train_dataset['img1'][i],train_dataset['img2'][i])\n",
    "        )   \n",
    "    else:\n",
    "        simmilar_images_results.append(\n",
    "            convolution(train_dataset['img1'][i],train_dataset['img2'][i])\n",
    "        )"
   ]
  },
  {
   "cell_type": "code",
   "execution_count": 1627,
   "metadata": {},
   "outputs": [
    {
     "name": "stdout",
     "output_type": "stream",
     "text": [
      "Most frequent score in simmilar images  : 126117\n",
      "Most frequent score in different images : 128813\n",
      "Average frequent score in all images : 127465.0\n"
     ]
    },
    {
     "data": {
      "image/png": "[encoded data removed]",
      "text/plain": [
       "<Figure size 432x288 with 1 Axes>"
      ]
     },
     "metadata": {
      "needs_background": "light"
     },
     "output_type": "display_data"
    }
   ],
   "source": [
    "y, x, _ = plt.hist(simmilar_images_results, bins=50,fc=(1, 0, 0, 0.2),label='simmilar')\n",
    "y, x, _ = plt.hist(different_images_results, bins=50,fc=(0, 0, 1, 0.2),label='different')\n",
    "plt.legend()\n",
    "print(\"Most frequent score in simmilar images  : \"+str(mode(simmilar_images_results)))\n",
    "print(\"Most frequent score in different images : \"+str(mode(different_images_results)))\n",
    "print(\"Average frequent score in all images : \"+str(np.average([mode(simmilar_images_results),mode(different_images_results)])))\n"
   ]
  },
  {
   "cell_type": "code",
   "execution_count": 1628,
   "metadata": {},
   "outputs": [
    {
     "name": "stdout",
     "output_type": "stream",
     "text": [
      "              precision    recall  f1-score   support\n",
      "\n",
      "         0.0       0.84      0.75      0.79      1500\n",
      "         1.0       0.14      0.23      0.18       270\n",
      "\n",
      "    accuracy                           0.67      1770\n",
      "   macro avg       0.49      0.49      0.49      1770\n",
      "weighted avg       0.74      0.67      0.70      1770\n",
      "\n",
      "[[1122  378]\n",
      " [ 207   63]]\n"
     ]
    }
   ],
   "source": [
    "predictions = []\n",
    "for i in range(len(validate_dataset['img1'])):\n",
    "    predictions.append(imageMatching(validate_dataset['img1'][i],validate_dataset['img2'][i],'conv',False))\n",
    "print(classification_report(validate_dataset['match'],predictions))\n",
    "print(confusion_matrix(validate_dataset['match'],predictions))"
   ]
  },
  {
   "cell_type": "markdown",
   "metadata": {},
   "source": [
    "### with normaliztion"
   ]
  },
  {
   "cell_type": "code",
   "execution_count": 1629,
   "metadata": {},
   "outputs": [],
   "source": [
    "different_images_results = []\n",
    "simmilar_images_results = []\n",
    "for i in range(len(train_dataset['img1'])):\n",
    "    if(train_dataset['match'][i] == 0):\n",
    "        different_images_results.append(\n",
    "            convolution(train_dataset['img1'][i]/255.0,train_dataset['img2'][i]/255.0)\n",
    "        )   \n",
    "    else:\n",
    "        simmilar_images_results.append(\n",
    "            convolution(train_dataset['img1'][i]/255.0,train_dataset['img2'][i]/255.0)\n",
    "        )"
   ]
  },
  {
   "cell_type": "code",
   "execution_count": 1630,
   "metadata": {},
   "outputs": [
    {
     "name": "stdout",
     "output_type": "stream",
     "text": [
      "Most frequent score in simmilar images  : 257.6966858900423\n",
      "Most frequent score in different images : 254.30073048827376\n",
      "Average frequent score in all images : 255.99870818915804\n"
     ]
    },
    {
     "data": {
      "image/png": "[encoded data removed]",
      "text/plain": [
       "<Figure size 432x288 with 1 Axes>"
      ]
     },
     "metadata": {
      "needs_background": "light"
     },
     "output_type": "display_data"
    }
   ],
   "source": [
    "y, x, _ = plt.hist(simmilar_images_results, bins=20,fc=(1, 0, 0, 0.2),label='simmilar')\n",
    "y, x, _ = plt.hist(different_images_results, bins=20,fc=(0, 0, 1, 0.2),label='different')\n",
    "plt.legend()\n",
    "print(\"Most frequent score in simmilar images  : \"+str(mode(simmilar_images_results)))\n",
    "print(\"Most frequent score in different images : \"+str(mode(different_images_results)))\n",
    "print(\"Average frequent score in all images : \"+str(np.average([mode(simmilar_images_results),mode(different_images_results)])))\n"
   ]
  },
  {
   "cell_type": "code",
   "execution_count": 1631,
   "metadata": {},
   "outputs": [
    {
     "name": "stdout",
     "output_type": "stream",
     "text": [
      "              precision    recall  f1-score   support\n",
      "\n",
      "         0.0       0.84      0.42      0.56      1500\n",
      "         1.0       0.15      0.57      0.24       270\n",
      "\n",
      "    accuracy                           0.44      1770\n",
      "   macro avg       0.50      0.49      0.40      1770\n",
      "weighted avg       0.74      0.44      0.51      1770\n",
      "\n",
      "[[625 875]\n",
      " [117 153]]\n"
     ]
    }
   ],
   "source": [
    "predictions = []\n",
    "for i in range(len(validate_dataset['img1'])):\n",
    "    predictions.append(imageMatching(validate_dataset['img1'][i],validate_dataset['img2'][i],'conv',True))\n",
    "print(classification_report(validate_dataset['match'],predictions))\n",
    "print(confusion_matrix(validate_dataset['match'],predictions))"
   ]
  },
  {
   "cell_type": "markdown",
   "metadata": {},
   "source": []
  },
  {
   "cell_type": "markdown",
   "metadata": {},
   "source": [
    "## Find the best threshold for sum square difference"
   ]
  },
  {
   "cell_type": "markdown",
   "metadata": {},
   "source": [
    "### without normalization"
   ]
  },
  {
   "cell_type": "code",
   "execution_count": 1632,
   "metadata": {},
   "outputs": [],
   "source": [
    "different_images_results = []\n",
    "simmilar_images_results = []\n",
    "for i in range(len(train_dataset['img1'])):\n",
    "    if(train_dataset['match'][i] == 0):\n",
    "        different_images_results.append(\n",
    "            sum_square_difference(train_dataset['img1'][i],train_dataset['img2'][i])\n",
    "        )   \n",
    "    else:\n",
    "        simmilar_images_results.append(\n",
    "            sum_square_difference(train_dataset['img1'][i],train_dataset['img2'][i])\n",
    "        )"
   ]
  },
  {
   "cell_type": "code",
   "execution_count": 1633,
   "metadata": {},
   "outputs": [
    {
     "name": "stdout",
     "output_type": "stream",
     "text": [
      "Most frequent score in simmilar images  : 107058\n",
      "Most frequent score in different images : 108057\n",
      "Average frequent score in all images : 107557.5\n"
     ]
    },
    {
     "data": {
      "image/png": "[encoded data removed]",
      "text/plain": [
       "<Figure size 432x288 with 1 Axes>"
      ]
     },
     "metadata": {
      "needs_background": "light"
     },
     "output_type": "display_data"
    }
   ],
   "source": [
    "y, x, _ = plt.hist(simmilar_images_results, bins=20,fc=(1, 0, 0, 0.2),label='simmilar')\n",
    "y, x, _ = plt.hist(different_images_results, bins=20,fc=(0, 0, 1, 0.2),label='different')\n",
    "plt.legend()\n",
    "print(\"Most frequent score in simmilar images  : \"+str(mode(simmilar_images_results)))\n",
    "print(\"Most frequent score in different images : \"+str(mode(different_images_results)))\n",
    "print(\"Average frequent score in all images : \"+str(np.average([mode(simmilar_images_results),mode(different_images_results)])))"
   ]
  },
  {
   "cell_type": "code",
   "execution_count": 1634,
   "metadata": {},
   "outputs": [
    {
     "name": "stdout",
     "output_type": "stream",
     "text": [
      "              precision    recall  f1-score   support\n",
      "\n",
      "         0.0       0.84      0.48      0.61      1500\n",
      "         1.0       0.15      0.50      0.23       270\n",
      "\n",
      "    accuracy                           0.48      1770\n",
      "   macro avg       0.50      0.49      0.42      1770\n",
      "weighted avg       0.74      0.48      0.55      1770\n",
      "\n",
      "[[723 777]\n",
      " [135 135]]\n"
     ]
    }
   ],
   "source": [
    "predictions = []\n",
    "for i in range(len(validate_dataset['img1'])):\n",
    "    predictions.append(imageMatching(validate_dataset['img1'][i],validate_dataset['img2'][i],'ssd',False))\n",
    "print(classification_report(validate_dataset['match'],predictions))\n",
    "print(confusion_matrix(validate_dataset['match'],predictions))"
   ]
  },
  {
   "cell_type": "markdown",
   "metadata": {},
   "source": [
    "### with normalization"
   ]
  },
  {
   "cell_type": "code",
   "execution_count": 1635,
   "metadata": {},
   "outputs": [],
   "source": [
    "different_images_results = []\n",
    "simmilar_images_results = []\n",
    "for i in range(len(train_dataset['img1'])):\n",
    "    if(train_dataset['match'][i] == 0):\n",
    "        different_images_results.append(\n",
    "            sum_square_difference(train_dataset['img1'][i]/255.0,train_dataset['img2'][i]/255.0)\n",
    "        )   \n",
    "    else:\n",
    "        simmilar_images_results.append(\n",
    "            sum_square_difference(train_dataset['img1'][i]/255.0,train_dataset['img2'][i]/255.0)\n",
    "        )"
   ]
  },
  {
   "cell_type": "code",
   "execution_count": 1636,
   "metadata": {},
   "outputs": [
    {
     "name": "stdout",
     "output_type": "stream",
     "text": [
      "Most frequent score in simmilar images  : 41.35692425990003\n",
      "Most frequent score in different images : 43.56241445597847\n",
      "Average frequent score in all images : 42.45966935793925\n"
     ]
    },
    {
     "data": {
      "image/png": "[encoded data removed]",
      "text/plain": [
       "<Figure size 432x288 with 1 Axes>"
      ]
     },
     "metadata": {
      "needs_background": "light"
     },
     "output_type": "display_data"
    }
   ],
   "source": [
    "y, x, _ = plt.hist(simmilar_images_results, bins=20,fc=(1, 0, 0, 0.2),label='simmilar')\n",
    "y, x, _ = plt.hist(different_images_results, bins=20,fc=(0, 0, 1, 0.2),label='different')\n",
    "plt.legend()\n",
    "print(\"Most frequent score in simmilar images  : \"+str(mode(simmilar_images_results)))\n",
    "print(\"Most frequent score in different images : \"+str(mode(different_images_results)))\n",
    "print(\"Average frequent score in all images : \"+str(np.average([mode(simmilar_images_results),mode(different_images_results)])))\n"
   ]
  },
  {
   "cell_type": "code",
   "execution_count": 1637,
   "metadata": {},
   "outputs": [
    {
     "name": "stdout",
     "output_type": "stream",
     "text": [
      "              precision    recall  f1-score   support\n",
      "\n",
      "         0.0       0.88      0.65      0.75      1500\n",
      "         1.0       0.21      0.52      0.30       270\n",
      "\n",
      "    accuracy                           0.63      1770\n",
      "   macro avg       0.55      0.58      0.52      1770\n",
      "weighted avg       0.78      0.63      0.68      1770\n",
      "\n",
      "[[972 528]\n",
      " [130 140]]\n"
     ]
    }
   ],
   "source": [
    "predictions = []\n",
    "for i in range(len(validate_dataset['img1'])):\n",
    "    predictions.append(imageMatching(validate_dataset['img1'][i],validate_dataset['img2'][i],'ssd',True))\n",
    "print(classification_report(validate_dataset['match'],predictions))\n",
    "print(confusion_matrix(validate_dataset['match'],predictions))"
   ]
  },
  {
   "cell_type": "markdown",
   "metadata": {},
   "source": [
    "## Discussion"
   ]
  },
  {
   "cell_type": "markdown",
   "metadata": {},
   "source": [
    "It was difficult to have a real threshold that seperates the datasets because of two things:\n",
    "1. Images are very simmilar to each other\n",
    "2. Images are grayscaled so coloring differentiation is missed so if the images were identical in shape so colors could have differentiated by adding different values\n",
    "\n",
    "Results:\n",
    "\n",
    "1. It was expected that different images to be predicted more than simmilar ones different images has much more pairs than simmilar ones\n",
    "2. Using normalization had a slight improvment in cross correlation and SSD so it increased both accuracy and f1-score in both of them \n",
    "3. convolution without normalization was the best combination cause it resulted in **0.67** accuracy score and **0.49**  f1-score which were the hightest scores in all methods combinations\n",
    "4. having the average of the most frequent score in simmilar and different classes was a successful way to determine the threshold"
   ]
  },
  {
   "cell_type": "markdown",
   "metadata": {},
   "source": [
    "# Perceptron"
   ]
  },
  {
   "cell_type": "markdown",
   "metadata": {},
   "source": [
    "## Sub Sampling"
   ]
  },
  {
   "cell_type": "code",
   "execution_count": 1638,
   "metadata": {},
   "outputs": [],
   "source": [
    "train_dataset = train_dataset.sample(frac=1)\n",
    "class_1_train = train_dataset[train_dataset['match'] == 1]\n",
    "class_0_train = train_dataset[train_dataset['match'] == 0]\n",
    "train_dataset_balance = pd.concat([class_1_train,class_0_train[0:len(class_1_train)]])\n",
    "train_dataset_balance= train_dataset_balance.reset_index()"
   ]
  },
  {
   "cell_type": "code",
   "execution_count": 1639,
   "metadata": {},
   "outputs": [],
   "source": [
    "x_train = []\n",
    "for i in range(len(train_dataset_balance)):\n",
    "    x_train.append(np.append(train_dataset_balance['img1'][i] , train_dataset_balance['img2'][i]))\n",
    "y_train = train_dataset_balance['match']\n",
    "\n",
    "x_validate = []\n",
    "for i in range(len(validate_dataset)):\n",
    "    x_validate.append(np.append(validate_dataset['img1'][i],validate_dataset['img2'][i]))\n",
    "y_validate = validate_dataset['match']"
   ]
  },
  {
   "cell_type": "code",
   "execution_count": 1640,
   "metadata": {},
   "outputs": [
    {
     "name": "stdout",
     "output_type": "stream",
     "text": [
      "Iteration 1, loss = 17.45836231\n",
      "Iteration 2, loss = 16.49604081\n",
      "Iteration 3, loss = 14.91405092\n",
      "Iteration 4, loss = 10.59800811\n",
      "Iteration 5, loss = 9.28960674\n",
      "Iteration 6, loss = 7.93780548\n",
      "Iteration 7, loss = 6.54018680\n",
      "Iteration 8, loss = 5.93406854\n",
      "Iteration 9, loss = 4.47539282\n",
      "Iteration 10, loss = 10.52320109\n",
      "Iteration 11, loss = 11.96233414\n",
      "Iteration 12, loss = 10.30894493\n",
      "Iteration 13, loss = 8.55292667\n",
      "Iteration 14, loss = 4.74367285\n",
      "Iteration 15, loss = 2.74152864\n",
      "Iteration 16, loss = 2.98774220\n",
      "Iteration 17, loss = 1.77753807\n",
      "Iteration 18, loss = 2.47400669\n",
      "Iteration 19, loss = 5.39779736\n",
      "Iteration 20, loss = 2.81479014\n"
     ]
    },
    {
     "name": "stderr",
     "output_type": "stream",
     "text": [
      "C:\\Users\\elsha\\anaconda3\\lib\\site-packages\\sklearn\\neural_network\\_multilayer_perceptron.py:614: ConvergenceWarning: Stochastic Optimizer: Maximum iterations (20) reached and the optimization hasn't converged yet.\n",
      "  warnings.warn(\n"
     ]
    },
    {
     "data": {
      "text/plain": [
       "MLPClassifier(alpha=0.00015, max_iter=20, random_state=10, verbose='true')"
      ]
     },
     "execution_count": 1640,
     "metadata": {},
     "output_type": "execute_result"
    }
   ],
   "source": [
    "model = MLPClassifier(max_iter=20,solver='adam',learning_rate_init=0.001,hidden_layer_sizes=(100,),alpha=0.00015,verbose='true',random_state=10)\n",
    "model.fit(x_train, y_train)"
   ]
  },
  {
   "cell_type": "code",
   "execution_count": 1641,
   "metadata": {},
   "outputs": [
    {
     "name": "stdout",
     "output_type": "stream",
     "text": [
      "Number of layers 3\n",
      "Layer 0: Weights (2048, 100) Bias (100,)\n",
      "Layer 1: Weights (100, 1) Bias (1,)\n",
      "Classifier accuracy on the training set is 0.5324561403508772 \n",
      "Classifier accuracy on the validate set is 0.7598870056497176 \n"
     ]
    }
   ],
   "source": [
    "print(f'Number of layers {model.n_layers_}')\n",
    "for lyr in range(model.n_layers_-1):\n",
    "   print('Layer {0}: Weights {1} Bias {2}'.format(lyr,model.coefs_[lyr].shape, model.intercepts_[lyr].shape))\n",
    "\n",
    "y_pred = model.predict(x_train)\n",
    "y_pred_test = model.predict(x_validate)\n",
    "print('Classifier accuracy on the training set is {0} '.format(accuracy_score(y_train, y_pred)))\n",
    "print('Classifier accuracy on the validate set is {0} '.format(accuracy_score(y_validate, y_pred_test)))"
   ]
  },
  {
   "cell_type": "code",
   "execution_count": 1642,
   "metadata": {},
   "outputs": [
    {
     "name": "stdout",
     "output_type": "stream",
     "text": [
      "              precision    recall  f1-score   support\n",
      "\n",
      "         0.0       0.85      0.87      0.86      1500\n",
      "         1.0       0.17      0.14      0.16       270\n",
      "\n",
      "    accuracy                           0.76      1770\n",
      "   macro avg       0.51      0.51      0.51      1770\n",
      "weighted avg       0.75      0.76      0.75      1770\n",
      "\n"
     ]
    }
   ],
   "source": [
    "print(classification_report(y_validate,y_pred_test))"
   ]
  },
  {
   "cell_type": "markdown",
   "metadata": {},
   "source": [
    "# Classification Comparison"
   ]
  },
  {
   "cell_type": "markdown",
   "metadata": {},
   "source": [
    "## image matching score:"
   ]
  },
  {
   "cell_type": "markdown",
   "metadata": {},
   "source": [
    "we will use convolution without normalizatoin cause it gave us the best accuracy to compare it with MLP"
   ]
  },
  {
   "cell_type": "code",
   "execution_count": 1643,
   "metadata": {},
   "outputs": [
    {
     "name": "stdout",
     "output_type": "stream",
     "text": [
      "              precision    recall  f1-score   support\n",
      "\n",
      "         0.0       0.85      0.75      0.79      1500\n",
      "         1.0       0.16      0.27      0.20       270\n",
      "\n",
      "    accuracy                           0.67      1770\n",
      "   macro avg       0.51      0.51      0.50      1770\n",
      "weighted avg       0.75      0.67      0.70      1770\n",
      "\n",
      "[[1119  381]\n",
      " [ 197   73]]\n"
     ]
    }
   ],
   "source": [
    "image_matching_time_before = time.time()\n",
    "predictions = []\n",
    "for i in range(len(test_dataset)):\n",
    "    predictions.append(imageMatching(test_dataset['img1'][i],test_dataset['img2'][i],method='conv',normalize=False))\n",
    "image_matching_time_after = time.time()\n",
    "print(classification_report(test_dataset['match'],predictions))\n",
    "print(confusion_matrix(test_dataset['match'],predictions))"
   ]
  },
  {
   "cell_type": "code",
   "execution_count": 1644,
   "metadata": {},
   "outputs": [
    {
     "name": "stdout",
     "output_type": "stream",
     "text": [
      "Image matching consumed time = 0.7180790901184082 s\n"
     ]
    }
   ],
   "source": [
    "overall_time_imageMatcing = image_matching_time_after - image_matching_time_before\n",
    "print(\"Image matching consumed time = \"+str(overall_time_imageMatcing)+ \" s\") "
   ]
  },
  {
   "cell_type": "markdown",
   "metadata": {},
   "source": [
    "## MultiLayer Perceptron Score:"
   ]
  },
  {
   "cell_type": "code",
   "execution_count": 1645,
   "metadata": {},
   "outputs": [],
   "source": [
    "x_test = []\n",
    "for i in range(len(test_dataset)):\n",
    "    x_test.append(np.append(test_dataset['img1'][i],test_dataset['img2'][i]))\n",
    "y_test = test_dataset['match']"
   ]
  },
  {
   "cell_type": "code",
   "execution_count": 1646,
   "metadata": {},
   "outputs": [
    {
     "name": "stdout",
     "output_type": "stream",
     "text": [
      "              precision    recall  f1-score   support\n",
      "\n",
      "         0.0       0.84      0.83      0.84      1500\n",
      "         1.0       0.13      0.14      0.13       270\n",
      "\n",
      "    accuracy                           0.73      1770\n",
      "   macro avg       0.49      0.48      0.49      1770\n",
      "weighted avg       0.73      0.73      0.73      1770\n",
      "\n",
      "[[1249  251]\n",
      " [ 233   37]]\n"
     ]
    }
   ],
   "source": [
    "mlp_time_before = time.time()\n",
    "y_pred_test = model.predict(x_test)\n",
    "mlp_time_after = time.time()\n",
    "print(classification_report(y_test,y_pred_test))\n",
    "print(confusion_matrix(y_test,y_pred_test))"
   ]
  },
  {
   "cell_type": "code",
   "execution_count": 1647,
   "metadata": {},
   "outputs": [
    {
     "name": "stdout",
     "output_type": "stream",
     "text": [
      "MLP consumed time = 0.07878899574279785 s\n"
     ]
    }
   ],
   "source": [
    "overall_time_mlp = mlp_time_after - mlp_time_before\n",
    "print(\"MLP consumed time = \"+str(overall_time_mlp)+ \" s\") "
   ]
  },
  {
   "cell_type": "markdown",
   "metadata": {},
   "source": [
    "## Disscussion"
   ]
  },
  {
   "cell_type": "markdown",
   "metadata": {},
   "source": [
    "1. Classification Performance:\n",
    "    Image Matching was better in accuracy had accuracy with *67* which is better than MLP which had *50%* Accuracy\n",
    "    MLP suffered from underfitting problems which can be solved with adding regularization\n",
    "2. Robustness and generalization:\n",
    "    Image Matching was better in overall generalization which had *0.50*, MLP was sligtly better in classifying the minor class (simmilar) with average *25%* f1-score for that class but Image Matching was better in classifying the major class(different) with average f1-score *80%* for that class\n",
    "1. Speed of prediction: \n",
    "    MultiLayer Perceptron was very fast in comparison with imageMaching , it was faster by *0.46* seconds\n",
    "2. Trainig effort:\n",
    "    Multilayer perceptron took much higher training time and effort than ImageMatching from tuninig and choosing the best parameters, but Image Classifier was simple and fast classifier when it come to choose the threshold."
   ]
  },
  {
   "cell_type": "markdown",
   "metadata": {},
   "source": [
    "# Feature Engineering"
   ]
  },
  {
   "cell_type": "markdown",
   "metadata": {},
   "source": [
    "## Apply Feature Enginnering on train , validate and test datasets"
   ]
  },
  {
   "cell_type": "code",
   "execution_count": 1648,
   "metadata": {},
   "outputs": [],
   "source": [
    "def tuned_dataset(data):\n",
    "    features_data = []\n",
    "    for i in range(len(data)):\n",
    "        # apply gaussian flters on both images:\n",
    "        img1 = np.reshape(data['img1'][i],(32,32))\n",
    "        img2 = np.reshape(data['img2'][i],(32,32))\n",
    "        tuned_img1 = cv2.GaussianBlur(img1,(9,9),0)\n",
    "        tuned_img2 = cv2.GaussianBlur(img2,(9,9),0)\n",
    "        # apply canny edge detection on both images:\n",
    "        tuned_img1 = cv2.Canny(img1, 100, 200)\n",
    "        tuned_img2 = cv2.Canny(img2, 100, 200)\n",
    "\n",
    "        #reshape both images to 4 X 4 \n",
    "        tuned_img1 = cv2.resize(tuned_img1,(4,4))\n",
    "        tuned_img2 = cv2.resize(tuned_img2,(4,4))\n",
    "        \n",
    "        tuned_img1 = np.reshape(tuned_img1,-1)\n",
    "        tuned_img2 = np.reshape(tuned_img2,-1)\n",
    "\n",
    "        features = np.append(tuned_img1,tuned_img2)\n",
    "        features_data.append(features)\n",
    "    return features_data"
   ]
  },
  {
   "cell_type": "code",
   "execution_count": 1649,
   "metadata": {},
   "outputs": [],
   "source": [
    "tuned_train = tuned_dataset(train_dataset_balance)\n",
    "tuned_validate = tuned_dataset(validate_dataset)\n",
    "tuned_test = tuned_dataset(test_dataset)"
   ]
  },
  {
   "cell_type": "code",
   "execution_count": 1650,
   "metadata": {},
   "outputs": [
    {
     "name": "stdout",
     "output_type": "stream",
     "text": [
      "Iteration 1, loss = 10.01855643\n",
      "Validation score: 0.491228\n",
      "Iteration 2, loss = 7.01194062\n",
      "Validation score: 0.473684\n",
      "Iteration 3, loss = 4.77103176\n",
      "Validation score: 0.486842\n",
      "Iteration 4, loss = 3.63058282\n",
      "Validation score: 0.530702\n",
      "Iteration 5, loss = 2.99330047\n",
      "Validation score: 0.539474\n",
      "Iteration 6, loss = 2.63695126\n",
      "Validation score: 0.535088\n",
      "Iteration 7, loss = 2.37052868\n",
      "Validation score: 0.552632\n",
      "Iteration 8, loss = 2.11524612\n",
      "Validation score: 0.574561\n",
      "Iteration 9, loss = 1.94633261\n",
      "Validation score: 0.535088\n",
      "Iteration 10, loss = 1.85410222\n",
      "Validation score: 0.614035\n",
      "Iteration 11, loss = 1.65000843\n",
      "Validation score: 0.561404\n",
      "Iteration 12, loss = 1.69287273\n",
      "Validation score: 0.614035\n",
      "Iteration 13, loss = 1.62859651\n",
      "Validation score: 0.557018\n",
      "Iteration 14, loss = 1.38374929\n",
      "Validation score: 0.570175\n",
      "Iteration 15, loss = 1.34388993\n",
      "Validation score: 0.574561\n",
      "Iteration 16, loss = 1.33338358\n",
      "Validation score: 0.592105\n",
      "Iteration 17, loss = 1.22407089\n",
      "Validation score: 0.543860\n",
      "Iteration 18, loss = 1.15399502\n",
      "Validation score: 0.600877\n",
      "Iteration 19, loss = 1.16010261\n",
      "Validation score: 0.605263\n",
      "Iteration 20, loss = 1.06201302\n",
      "Validation score: 0.583333\n",
      "Iteration 21, loss = 1.32370972\n",
      "Validation score: 0.614035\n",
      "Validation score did not improve more than tol=0.000100 for 10 consecutive epochs. Stopping.\n"
     ]
    },
    {
     "data": {
      "text/plain": [
       "MLPClassifier(alpha=0.0004, early_stopping=True, hidden_layer_sizes=100,\n",
       "              max_iter=100, verbose='true')"
      ]
     },
     "execution_count": 1650,
     "metadata": {},
     "output_type": "execute_result"
    }
   ],
   "source": [
    "model = MLPClassifier(max_iter=100,early_stopping=True,solver='adam',learning_rate_init=0.001,hidden_layer_sizes=(100),verbose='true',alpha=0.0004)\n",
    "model.fit(tuned_train, train_dataset_balance['match'])"
   ]
  },
  {
   "cell_type": "code",
   "execution_count": 1651,
   "metadata": {},
   "outputs": [
    {
     "name": "stdout",
     "output_type": "stream",
     "text": [
      "Number of layers 3\n",
      "Layer 0: Weights (32, 100) Bias (100,)\n",
      "Layer 1: Weights (100, 1) Bias (1,)\n",
      "Classifier accuracy on the training set is 0.6065789473684211 \n",
      "Classifier accuracy on the validate set is 0.5644067796610169 \n",
      "              precision    recall  f1-score   support\n",
      "\n",
      "         0.0       0.84      0.60      0.70      1500\n",
      "         1.0       0.15      0.39      0.21       270\n",
      "\n",
      "    accuracy                           0.56      1770\n",
      "   macro avg       0.50      0.49      0.46      1770\n",
      "weighted avg       0.74      0.56      0.62      1770\n",
      "\n"
     ]
    }
   ],
   "source": [
    "print(f'Number of layers {model.n_layers_}')\n",
    "for lyr in range(model.n_layers_-1):\n",
    "   print('Layer {0}: Weights {1} Bias {2}'.format(lyr,model.coefs_[lyr].shape, model.intercepts_[lyr].shape))\n",
    "\n",
    "y_pred = model.predict(tuned_train)\n",
    "y_pred_test = model.predict(tuned_validate)\n",
    "print('Classifier accuracy on the training set is {0} '.format(accuracy_score(train_dataset_balance['match'], y_pred)))\n",
    "print('Classifier accuracy on the validate set is {0} '.format(accuracy_score(validate_dataset['match'], y_pred_test)))\n",
    "print(classification_report(validate_dataset['match'],y_pred_test))"
   ]
  },
  {
   "cell_type": "code",
   "execution_count": 1652,
   "metadata": {},
   "outputs": [
    {
     "name": "stdout",
     "output_type": "stream",
     "text": [
      "              precision    recall  f1-score   support\n",
      "\n",
      "         0.0       0.86      0.59      0.70      1500\n",
      "         1.0       0.17      0.46      0.25       270\n",
      "\n",
      "    accuracy                           0.57      1770\n",
      "   macro avg       0.51      0.53      0.48      1770\n",
      "weighted avg       0.75      0.57      0.63      1770\n",
      "\n",
      "[[890 610]\n",
      " [145 125]]\n"
     ]
    }
   ],
   "source": [
    "y_pred_test = model.predict(tuned_test)\n",
    "\n",
    "print(classification_report(test_dataset['match'],y_pred_test))\n",
    "print(confusion_matrix(test_dataset['match'],y_pred_test))"
   ]
  },
  {
   "cell_type": "markdown",
   "metadata": {},
   "source": [
    "# Discussion on feature Engineering"
   ]
  },
  {
   "cell_type": "markdown",
   "metadata": {},
   "source": [
    "### Before applying feature engineering the accuracy of the model was performing badly on test data but after applying feature engineering using gaussian filter which is used to blur the image followed by canny edge detection to focus on edges it highly increased the accuracy from *50%* to *63%* and f1-score increased from *44%* to *49%*\n",
    "\n",
    "### The model still suffer from overfitting problems and biased towards the different class."
   ]
  }
 ],
 "metadata": {
  "interpreter": {
   "hash": "784ed3d7432552910b255b2267514417b86d62e75d45353e26a7ff2215df20ce"
  },
  "kernelspec": {
   "display_name": "Python 3.8.8 64-bit ('base': conda)",
   "name": "python3"
  },
  "language_info": {
   "codemirror_mode": {
    "name": "ipython",
    "version": 3
   },
   "file_extension": ".py",
   "mimetype": "text/x-python",
   "name": "python",
   "nbconvert_exporter": "python",
   "pygments_lexer": "ipython3",
   "version": "3.8.8"
  }
 },
 "nbformat": 4,
 "nbformat_minor": 5
}
